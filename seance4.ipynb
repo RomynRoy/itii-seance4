{
 "cells": [
  {
   "cell_type": "markdown",
   "metadata": {},
   "source": [
    "#Seance 4"
   ]
  },
  {
   "cell_type": "markdown",
   "metadata": {},
   "source": [
    "Ex 1: Racine quatrième \n",
    "\n",
    "Pour un nombre réel a positif, il existe un unique réel b positif tel que b^n = a. Ce réel est appelé la racine n-ième de a (ou racine n-ième principale de a).\n",
    "\n",
    "1. Donner la fonction python racine(b,n,e) qui donnée la racine n-eme de b avec une précision de e\n"
   ]
  },
  {
   "cell_type": "code",
   "execution_count": 3,
   "metadata": {},
   "outputs": [
    {
     "name": "stdout",
     "output_type": "stream",
     "text": [
      "3.00999999999998\n"
     ]
    }
   ],
   "source": [
    "def racine(b,n,e):\n",
    "    r = e\n",
    "    while r**n < b:\n",
    "        r=e+r\n",
    "    print(r)\n",
    "\n",
    "racine(27,3,0.01)"
   ]
  },
  {
   "cell_type": "markdown",
   "metadata": {},
   "source": [
    "Ex 2: Racine d'un polynome\n",
    "On appelle racine d'une polynome P une solution de l'équation (E): P(x)=0. \n",
    "\n",
    "On considère le trinome ax2+bx+c.\n",
    "\n",
    "Faire un algorithme pour trouver si il a des racines, combien, et calculer leur valeur. "
   ]
  },
  {
   "cell_type": "code",
   "execution_count": 18,
   "metadata": {},
   "outputs": [
    {
     "name": "stdout",
     "output_type": "stream",
     "text": [
      "delta= 0\n",
      "Une solution : x= -1.0\n"
     ]
    }
   ],
   "source": [
    "from math import sqrt\n",
    "\n",
    "def delta(a,b,c) :\n",
    "    d=b*b-4*a*c\n",
    "    print(\"delta=\",d) \n",
    "    if (d<0) :\n",
    "        print(\"Solution non réelle\")\n",
    "    if(d>0) :\n",
    "        x1=(-1*b+sqrt(d))/(2*a)\n",
    "        x2=(-1*b-sqrt(d))/(2*a)\n",
    "        print(\"2 solutions : x1=\",x1, \"et x2=\",x2)\n",
    "    if(d==0) :\n",
    "        x=(-1*b)/(2.0*a)\n",
    "        print(\"Une solution : x=\",x)\n",
    "           \n",
    "delta(1,2,1)"
   ]
  },
  {
   "cell_type": "markdown",
   "metadata": {},
   "source": [
    "#Introduction a Sympy \n",
    " \n",
    "Le module Sympy  permet de faire du calcul symbolique. Par exemple, le nombre √8 est représenté par Python comme un flottant"
   ]
  },
  {
   "cell_type": "code",
   "execution_count": 33,
   "metadata": {},
   "outputs": [
    {
     "data": {
      "image/png": "[encoded data removed]",
      "text/latex": [
       "$\\displaystyle 2.8284271247461903$"
      ],
      "text/plain": [
       "2.8284271247461903"
      ]
     },
     "execution_count": 33,
     "metadata": {},
     "output_type": "execute_result"
    }
   ],
   "source": [
    "import math\n",
    "math.sqrt(8)"
   ]
  },
  {
   "cell_type": "markdown",
   "metadata": {},
   "source": [
    "L’avantage de Sympy est que √8 est gardé en tant racine et même automatiquement simplifié"
   ]
  },
  {
   "cell_type": "code",
   "execution_count": 32,
   "metadata": {},
   "outputs": [
    {
     "data": {
      "image/png": "[encoded data removed]",
      "text/latex": [
       "$\\displaystyle 2 \\sqrt{2}$"
      ],
      "text/plain": [
       "2⋅√2"
      ]
     },
     "execution_count": 32,
     "metadata": {},
     "output_type": "execute_result"
    }
   ],
   "source": [
    "from sympy import *\n",
    "\n",
    "init_printing()\n",
    "sqrt(8)"
   ]
  },
  {
   "cell_type": "markdown",
   "metadata": {},
   "source": [
    "Ex3 : Introduction\n",
    "Avant de pourvoir utiliser des variables symboliques, il faut les déclarer comme symboles:"
   ]
  },
  {
   "cell_type": "code",
   "execution_count": 56,
   "metadata": {},
   "outputs": [
    {
     "data": {
      "image/png": "[encoded data removed]",
      "text/latex": [
       "$\\displaystyle \\frac{\\varepsilon}{4} + x^{2} + 4 x + 4 y$"
      ],
      "text/plain": [
       "\\varepsilon    2            \n",
       "─────────── + x  + 4⋅x + 4⋅y\n",
       "     4                      "
      ]
     },
     "execution_count": 56,
     "metadata": {},
     "output_type": "execute_result"
    }
   ],
   "source": [
    "x = Symbol(\"x\")# definit le symbole x\n",
    "y = Symbol(\"y\", real=True)# définit la variable réelle y\n",
    "e = Symbol(r\"\\varepsilon\", real=True, positive=True)# définit epsilon positif\n",
    "\n",
    "x + 2*y + e/4 + x**2 + 3*x + 2*y"
   ]
  },
  {
   "cell_type": "markdown",
   "metadata": {},
   "source": [
    "1. Lire la doc de la fonction solveset l’utiliser pour calculer les racines d’un polynôme général de degré deux, puis de degré trois\n",
    "2. Lire la documentation des fonction evalf et N pour évaluer l’expression π^2/4\n",
    "3. Déterminer la partie réelle et imaginaire de l’expression : (1+i√3)^20 / 1+i\n",
    "4. Lire la documentation de la fonction diff et calculer la dérivée de xe^x^x^x par rapport à x.\n",
    "5. Calculer avec Sympy les limites suivantes :\n",
    " * L1= lim x→0 sin(x)/x,\n",
    " * L2= lim x→0 sin(1/x),"
   ]
  },
  {
   "cell_type": "code",
   "execution_count": 92,
   "metadata": {},
   "outputs": [
    {
     "data": {
      "image/png": "[encoded data removed]",
      "text/latex": [
       "$\\displaystyle \\left\\{- \\frac{b}{2 a} - \\frac{\\sqrt{- 4 a c + b^{2}}}{2 a}, - \\frac{b}{2 a} + \\frac{\\sqrt{- 4 a c + b^{2}}}{2 a}\\right\\}$"
      ],
      "text/plain": [
       "⎧           _____________             _____________⎫\n",
       "⎪          ╱           2             ╱           2 ⎪\n",
       "⎨   b    ╲╱  -4⋅a⋅c + b       b    ╲╱  -4⋅a⋅c + b  ⎬\n",
       "⎪- ─── - ────────────────, - ─── + ────────────────⎪\n",
       "⎩  2⋅a         2⋅a           2⋅a         2⋅a       ⎭"
      ]
     },
     "execution_count": 92,
     "metadata": {},
     "output_type": "execute_result"
    }
   ],
   "source": [
    "from sympy import *\n",
    "\n",
    "x = Symbol(\"x\")# definit le symbole x\n",
    "a = Symbol(\"a\")\n",
    "b = Symbol(\"b\")\n",
    "c = Symbol(\"c\")\n",
    "d = Symbol(\"d\")\n",
    "\n",
    "solveset(a*x**2+b*x+c, x)\n"
   ]
  },
  {
   "cell_type": "code",
   "execution_count": 87,
   "metadata": {},
   "outputs": [
    {
     "name": "stdout",
     "output_type": "stream",
     "text": [
      "Valeur = 191902.726899336 + 716190.726899335*I\n",
      "Partie réelle = 191902.726899333\n",
      "Partie imaginaire = 716190.726899326\n"
     ]
    }
   ],
   "source": [
    "Valeur=N(((1+I*sqrt(3))**20) / (1+I))\n",
    "\n",
    "Imaginaire=im(((1+I*sqrt(3))**20) / (1+I))\n",
    "Reel=re(((1+I*sqrt(3))**20) / (1+I))\n",
    "\n",
    "print(\"Valeur =\",Valeur)\n",
    "print(\"Partie réelle =\",Reel)\n",
    "print(\"Partie imaginaire =\",Imaginaire)\n"
   ]
  },
  {
   "cell_type": "code",
   "execution_count": 96,
   "metadata": {},
   "outputs": [
    {
     "data": {
      "image/png": "[encoded data removed]",
      "text/latex": [
       "$\\displaystyle x x^{x^{x}} \\left(x^{x} \\left(\\log{\\left(x \\right)} + 1\\right) \\log{\\left(x \\right)} + \\frac{x^{x}}{x}\\right) e^{x^{x^{x}}} + e^{x^{x^{x}}}$"
      ],
      "text/plain": [
       "                                       ⎛ ⎛ x⎞⎞    ⎛ ⎛ x⎞⎞\n",
       "   ⎛ x⎞ ⎛                          x⎞  ⎜ ⎝x ⎠⎟    ⎜ ⎝x ⎠⎟\n",
       "   ⎝x ⎠ ⎜ x                       x ⎟  ⎝x    ⎠    ⎝x    ⎠\n",
       "x⋅x    ⋅⎜x ⋅(log(x) + 1)⋅log(x) + ──⎟⋅ℯ        + ℯ       \n",
       "        ⎝                         x ⎠                    "
      ]
     },
     "execution_count": 96,
     "metadata": {},
     "output_type": "execute_result"
    }
   ],
   "source": [
    "diff(x*E**x**x**x)"
   ]
  },
  {
   "cell_type": "code",
   "execution_count": 98,
   "metadata": {},
   "outputs": [
    {
     "name": "stdout",
     "output_type": "stream",
     "text": [
      "L1= 1 L2= AccumBounds(-1, 1)\n"
     ]
    }
   ],
   "source": [
    "L1=limit(sin(x)/x, x, 0)\n",
    "\n",
    "L2=limit(sin(1/x),x,0)\n",
    "print(\"L1=\",L1,\"L2=\",L2)"
   ]
  },
  {
   "cell_type": "markdown",
   "metadata": {},
   "source": [
    "Ex 4 : Application\n",
    "Le but est d’utiliser Sympy pour résoudre symboliquement différents problèmes mathématiques\n",
    "1. Déterminer le nombre de zéro que contient l’entier 123!\n",
    "2. Déterminer le rapport entre la hauteur et le rayon d’un cylindre de manière à minimiser sonaire à volume fixé\n",
    "3. Pour x,y∈R tels que xy <1, démontrer que arctan(x) + arctan(y) = arctan(x+y/1−xy)\n",
    "\n",
    "    "
   ]
  },
  {
   "cell_type": "code",
   "execution_count": 99,
   "metadata": {},
   "outputs": [
    {
     "ename": "SyntaxError",
     "evalue": "invalid syntax (<ipython-input-99-16621d9835db>, line 1)",
     "output_type": "error",
     "traceback": [
      "\u001b[1;36m  File \u001b[1;32m\"<ipython-input-99-16621d9835db>\"\u001b[1;36m, line \u001b[1;32m1\u001b[0m\n\u001b[1;33m    123!\u001b[0m\n\u001b[1;37m       ^\u001b[0m\n\u001b[1;31mSyntaxError\u001b[0m\u001b[1;31m:\u001b[0m invalid syntax\n"
     ]
    }
   ],
   "source": []
  }
 ],
 "metadata": {
  "kernelspec": {
   "display_name": "Python 3",
   "language": "python",
   "name": "python3"
  },
  "language_info": {
   "codemirror_mode": {
    "name": "ipython",
    "version": 3
   },
   "file_extension": ".py",
   "mimetype": "text/x-python",
   "name": "python",
   "nbconvert_exporter": "python",
   "pygments_lexer": "ipython3",
   "version": "3.7.6"
  }
 },
 "nbformat": 4,
 "nbformat_minor": 4
}
